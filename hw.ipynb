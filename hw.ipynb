{
 "cells": [
  {
   "cell_type": "code",
   "execution_count": 1,
   "id": "6ae37a65",
   "metadata": {},
   "outputs": [],
   "source": [
    "from selenium import webdriver\n",
    "from selenium.webdriver.chrome.service import Service\n",
    "from selenium.webdriver.common.by import By\n",
    "from selenium.webdriver.common.keys import Keys\n",
    "from selenium.common.exceptions import NoSuchElementException\n",
    "from pymongo import MongoClient"
   ]
  },
  {
   "cell_type": "code",
   "execution_count": 2,
   "id": "126ba0bc",
   "metadata": {},
   "outputs": [],
   "source": [
    "s = Service(\"./chromedriver.exe\")\n",
    "driver = webdriver.Chrome(service=s)\n",
    "driver.implicitly_wait(5)\n",
    "\n",
    "driver.get(\"https://www.mvideo.ru/\")\n",
    "\n",
    "while True:\n",
    "    driver.find_element(By.TAG_NAME, \"body\").send_keys(Keys.PAGE_DOWN)\n",
    "    \n",
    "    try:\n",
    "        button_trend = driver.find_element(By.XPATH, \"//button[@class='tab-button ng-star-inserted']\")\n",
    "        button_trend.click()\n",
    "\n",
    "        names_el = driver.find_elements(By.XPATH, \"//mvid-shelf-group//div[@class='product-mini-card__name ng-star-inserted']\")\n",
    "        prices_el = driver.find_elements(By.XPATH, \"//mvid-shelf-group//div[@class='product-mini-card__price ng-star-inserted']\")\n",
    "        links_el = driver.find_elements(By.XPATH, \"//mvid-shelf-group//div[@class='product-mini-card__name ng-star-inserted']//a\")\n",
    "    except NoSuchElementException:\n",
    "        continue\n",
    "    else:\n",
    "        break\n",
    "             \n",
    "names = []\n",
    "prices = []\n",
    "links = []\n",
    "\n",
    "for name in names_el:\n",
    "    names.append(name.text)\n",
    "\n",
    "for price in prices_el:\n",
    "    prices.append(price.text)\n",
    "\n",
    "for link in links_el:\n",
    "    links.append(link.get_attribute(\"href\"))\n",
    "    \n",
    "for i in range(len(prices)):\n",
    "    prices[i] = int(\"\".join(prices[i].split()[:2]))"
   ]
  },
  {
   "cell_type": "code",
   "execution_count": 9,
   "id": "7bde5412",
   "metadata": {},
   "outputs": [],
   "source": [
    "client = MongoClient(\"localhost\", 27017)\n",
    "db = client[\"mvideo\"]\n",
    "trends = db.trends"
   ]
  },
  {
   "cell_type": "code",
   "execution_count": 10,
   "id": "fe21c6d0",
   "metadata": {},
   "outputs": [],
   "source": [
    "for i in range(len(names)):\n",
    "    trends.insert_one({\n",
    "        \"Название\": names[i],\n",
    "        \"Цена\": prices[i],\n",
    "        \"Ссылка\": links[i]\n",
    "    })"
   ]
  },
  {
   "cell_type": "code",
   "execution_count": 11,
   "id": "ef4f1c25",
   "metadata": {},
   "outputs": [
    {
     "data": {
      "text/plain": [
       "[{'_id': ObjectId('6220a955f8d7e119f0746b08'),\n",
       "  'Название': 'Смартфон ZTE Blade A51 2+32GB Gray',\n",
       "  'Цена': 7999,\n",
       "  'Ссылка': 'https://www.mvideo.ru/products/smartfon-zte-blade-a51-232gb-gray-30060503'},\n",
       " {'_id': ObjectId('6220a955f8d7e119f0746b09'),\n",
       "  'Название': 'Ноутбук Acer Aspire 3 A315-34-C9WH NX.HE3ER.01V',\n",
       "  'Цена': 34999,\n",
       "  'Ссылка': 'https://www.mvideo.ru/products/noutbuk-acer-aspire-3-a315-34-c9wh-nxhe3er01v-30059596'},\n",
       " {'_id': ObjectId('6220a955f8d7e119f0746b0a'),\n",
       "  'Название': 'Наушники True Wireless HIPER Lazo X17 розовый (HTW-LX17)',\n",
       "  'Цена': 1699,\n",
       "  'Ссылка': 'https://www.mvideo.ru/products/naushniki-true-wireless-hiper-lazo-x17-rozovyi-htw-lx17-50167156'},\n",
       " {'_id': ObjectId('6220a955f8d7e119f0746b0b'),\n",
       "  'Название': 'Телевизор Novex NWX-55U169TSS',\n",
       "  'Цена': 37999,\n",
       "  'Ссылка': 'https://www.mvideo.ru/products/televizor-novex-nwx-55u169tss-10028919'},\n",
       " {'_id': ObjectId('6220a955f8d7e119f0746b0c'),\n",
       "  'Название': 'Холодильник Haier CEF537ACG',\n",
       "  'Цена': 46999,\n",
       "  'Ссылка': 'https://www.mvideo.ru/products/holodilnik-haier-cef537acg-20077297'},\n",
       " {'_id': ObjectId('6220a955f8d7e119f0746b0d'),\n",
       "  'Название': 'Смарт-часы HUAWEI GT 3 JPT-B19 Black SS / Black Fluoroelastomer',\n",
       "  'Цена': 19999,\n",
       "  'Ссылка': 'https://www.mvideo.ru/products/smart-chasy-huawei-gt-3-jpt-b19-black-ss---black-fluoroelastomer-30059691'},\n",
       " {'_id': ObjectId('6220a955f8d7e119f0746b0e'),\n",
       "  'Название': 'Электрогриль Tefal Optigrill+ GC712D34',\n",
       "  'Цена': 15999,\n",
       "  'Ссылка': 'https://www.mvideo.ru/products/elektrogril-tefal-optigrill-gc712d34-20036881'},\n",
       " {'_id': ObjectId('6220a955f8d7e119f0746b0f'),\n",
       "  'Название': 'Электрочайник Moulinex BY600130',\n",
       "  'Цена': 3499,\n",
       "  'Ссылка': 'https://www.mvideo.ru/products/elektrochainik-moulinex-by600130-20077737'},\n",
       " {'_id': ObjectId('6220a955f8d7e119f0746b10'),\n",
       "  'Название': 'Кофемашина капсульного типа Krups Dolce Gusto Piccolo XS KP1A0110',\n",
       "  'Цена': 5499,\n",
       "  'Ссылка': 'https://www.mvideo.ru/products/kofemashina-kapsulnogo-tipa-krups-dolce-gusto-piccolo-xs-kp1a0110-20063939'},\n",
       " {'_id': ObjectId('6220a955f8d7e119f0746b11'),\n",
       "  'Название': 'Парогенератор Tefal Pro Express Ultimate GV9581E0',\n",
       "  'Цена': 29999,\n",
       "  'Ссылка': 'https://www.mvideo.ru/products/parogenerator-tefal-pro-express-ultimate-gv9581e0-20053881'},\n",
       " {'_id': ObjectId('6220a955f8d7e119f0746b12'),\n",
       "  'Название': 'Электробритва Philips S1133/41',\n",
       "  'Цена': 2999,\n",
       "  'Ссылка': 'https://www.mvideo.ru/products/elektrobritva-philips-s1133-41-20067803'},\n",
       " {'_id': ObjectId('6220a955f8d7e119f0746b13'),\n",
       "  'Название': 'Электрическая зубная щетка Braun Oral-B Genius D701.515.6XC White',\n",
       "  'Цена': 8999,\n",
       "  'Ссылка': 'https://www.mvideo.ru/products/elektricheskaya-zubnaya-shhetka-braun-oral-b-genius-d7015156xc--white-20064369'},\n",
       " {'_id': ObjectId('6220a955f8d7e119f0746b14'),\n",
       "  'Название': 'Триммер для бороды Rowenta Forever Sharp TN6000F(4/5)',\n",
       "  'Цена': 2999,\n",
       "  'Ссылка': 'https://www.mvideo.ru/products/trimmer-dlya-borody-rowenta-forever-sharp-tn6000f4-5-20061772'},\n",
       " {'_id': ObjectId('6220a955f8d7e119f0746b15'),\n",
       "  'Название': 'Паровая гладильная система Tefal IXEO+ QT1510E0',\n",
       "  'Цена': 29999,\n",
       "  'Ссылка': 'https://www.mvideo.ru/products/parovaya-gladilnaya-sistema-tefal-ixeo-qt1510e0-20077002'},\n",
       " {'_id': ObjectId('6220a955f8d7e119f0746b16'),\n",
       "  'Название': 'Пылесос ручной (handstick) Tefal X-Force Flex 8.60 Aqua TY9690WO',\n",
       "  'Цена': 31499,\n",
       "  'Ссылка': 'https://www.mvideo.ru/products/pylesos-ruchnoi-handstick-tefal-x-force-flex-860-aqua-ty9690wo-20071482'},\n",
       " {'_id': ObjectId('6220a955f8d7e119f0746b17'),\n",
       "  'Название': 'Микроволновая печь соло LG MS2535GISH',\n",
       "  'Цена': 15999,\n",
       "  'Ссылка': 'https://www.mvideo.ru/products/mikrovolnovaya-pech-solo-lg-ms2535gish-20063505'}]"
      ]
     },
     "execution_count": 11,
     "metadata": {},
     "output_type": "execute_result"
    }
   ],
   "source": [
    "list(trends.find({}))"
   ]
  },
  {
   "cell_type": "code",
   "execution_count": null,
   "id": "339b1dab",
   "metadata": {},
   "outputs": [],
   "source": []
  }
 ],
 "metadata": {
  "kernelspec": {
   "display_name": "Python 3 (ipykernel)",
   "language": "python",
   "name": "python3"
  },
  "language_info": {
   "codemirror_mode": {
    "name": "ipython",
    "version": 3
   },
   "file_extension": ".py",
   "mimetype": "text/x-python",
   "name": "python",
   "nbconvert_exporter": "python",
   "pygments_lexer": "ipython3",
   "version": "3.9.7"
  }
 },
 "nbformat": 4,
 "nbformat_minor": 5
}
