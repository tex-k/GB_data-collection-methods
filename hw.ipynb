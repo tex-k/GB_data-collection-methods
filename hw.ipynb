{
 "cells": [
  {
   "cell_type": "code",
   "execution_count": 1,
   "id": "ef35032d",
   "metadata": {},
   "outputs": [],
   "source": [
    "import requests\n",
    "from lxml import html\n",
    "from pymongo import MongoClient"
   ]
  },
  {
   "cell_type": "code",
   "execution_count": 2,
   "id": "d3d96cfe",
   "metadata": {},
   "outputs": [],
   "source": [
    "headers = {\"User-Agent\": \"Mozilla/5.0 (Windows NT 10.0; Win64; x64) AppleWebKit/537.36 (KHTML, like Gecko) Chrome/98.0.4758.102 Safari/537.36\"}"
   ]
  },
  {
   "cell_type": "code",
   "execution_count": 3,
   "id": "c18a2f35",
   "metadata": {},
   "outputs": [],
   "source": [
    "response = requests.get(\"https://lenta.ru/\", headers=headers)\n",
    "dom = html.fromstring(response.text)\n",
    "columns = dom.xpath(\"//div[@class='topnews__column']\")"
   ]
  },
  {
   "cell_type": "code",
   "execution_count": 4,
   "id": "6eae216c",
   "metadata": {},
   "outputs": [],
   "source": [
    "news = []"
   ]
  },
  {
   "cell_type": "code",
   "execution_count": 5,
   "id": "c25f5709",
   "metadata": {},
   "outputs": [],
   "source": [
    "news.append({\n",
    "    \"Источник\": \"lenta.ru\",\n",
    "    \"Новость\": columns[0].xpath(\".//h3/text()\")[0],\n",
    "    \"Ссылка\": columns[0].xpath(\".//a[@class='card-big _topnews _news']/@href\")[0],\n",
    "    \"Время публикации\": columns[0].xpath(\".//time[@class='card-big__date']/text()\")[0]\n",
    "})"
   ]
  },
  {
   "cell_type": "code",
   "execution_count": 6,
   "id": "26a780e4",
   "metadata": {},
   "outputs": [],
   "source": [
    "for col in columns:\n",
    "    cards = col.xpath(\".//a[@class='card-mini _topnews']\")\n",
    "    for card in cards:\n",
    "        news.append({\n",
    "            \"Источник\": \"lenta.ru\",\n",
    "            \"Новость\": card.xpath(\".//span/text()\")[0],\n",
    "            \"Ссылка\": card.xpath(\"@href\")[0],\n",
    "            \"Время публикации\": card.xpath(\".//time/text()\")[0]\n",
    "        })"
   ]
  },
  {
   "cell_type": "code",
   "execution_count": 9,
   "id": "3c074e43",
   "metadata": {},
   "outputs": [],
   "source": [
    "client = MongoClient(\"localhost\", 27017)\n",
    "db = client[\"News\"]\n",
    "lenta = db.lenta"
   ]
  },
  {
   "cell_type": "code",
   "execution_count": 10,
   "id": "aed3f8c7",
   "metadata": {},
   "outputs": [],
   "source": [
    "for elem in news:\n",
    "    lenta.insert_one(elem)"
   ]
  },
  {
   "cell_type": "code",
   "execution_count": 14,
   "id": "9bd82b3b",
   "metadata": {},
   "outputs": [
    {
     "data": {
      "text/plain": [
       "[{'_id': ObjectId('62164cc72101f022935385e8'),\n",
       "  'Источник': 'lenta.ru',\n",
       "  'Новость': 'Глава Минобороны Британии пригрозил России словами «можем повторить»',\n",
       "  'Ссылка': '/news/2022/02/23/pnut_rossiyu/',\n",
       "  'Время публикации': '16:01'},\n",
       " {'_id': ObjectId('62164cc72101f022935385e9'),\n",
       "  'Источник': 'lenta.ru',\n",
       "  'Новость': 'Москва возглавила рейтинг городов России с самыми дорогими интим-услугами',\n",
       "  'Ссылка': 'https://moslenta.ru/news/city/intim-uslugi-23-02-2022.htm/',\n",
       "  'Время публикации': '18:00'},\n",
       " {'_id': ObjectId('62164cc72101f022935385ea'),\n",
       "  'Источник': 'lenta.ru',\n",
       "  'Новость': 'В Кремле раскрыли подробности разговора Путина и Эрдогана',\n",
       "  'Ссылка': '/news/2022/02/23/pogovorili/',\n",
       "  'Время публикации': '17:58'},\n",
       " {'_id': ObjectId('62164cc72101f022935385eb'),\n",
       "  'Источник': 'lenta.ru',\n",
       "  'Новость': 'На Украине заявили о кибератаке на государственные сайты',\n",
       "  'Ссылка': '/news/2022/02/23/legli_saity/',\n",
       "  'Время публикации': '17:55'},\n",
       " {'_id': ObjectId('62164cc72101f022935385ec'),\n",
       "  'Источник': 'lenta.ru',\n",
       "  'Новость': 'Туктамышева впервые оценила непопадание в состав сборной России на Олимпиаду',\n",
       "  'Ссылка': '/news/2022/02/23/tuktik/',\n",
       "  'Время публикации': '17:52'},\n",
       " {'_id': ObjectId('62164cc72101f022935385ed'),\n",
       "  'Источник': 'lenta.ru',\n",
       "  'Новость': 'Раскрыто влияние коронавируса на фигуру',\n",
       "  'Ссылка': '/news/2022/02/23/figurka/',\n",
       "  'Время публикации': '17:49'},\n",
       " {'_id': ObjectId('62164cc72101f022935385ee'),\n",
       "  'Источник': 'lenta.ru',\n",
       "  'Новость': 'На Украине захотели добиться исключения России из ОБСЕ',\n",
       "  'Ссылка': '/news/2022/02/23/zaregistrirovali/',\n",
       "  'Время публикации': '17:38'},\n",
       " {'_id': ObjectId('62164cc72101f022935385ef'),\n",
       "  'Источник': 'lenta.ru',\n",
       "  'Новость': 'Польша пригрозила закрыть границу для россиян',\n",
       "  'Ссылка': '/news/2022/02/23/no_poland_no/',\n",
       "  'Время публикации': '17:35'},\n",
       " {'_id': ObjectId('62164cc72101f022935385f0'),\n",
       "  'Источник': 'lenta.ru',\n",
       "  'Новость': 'Россияне назвали аморальным приглашение на обед в музее московской тюрьмы',\n",
       "  'Ссылка': 'https://moslenta.ru/news/lyudi/obed-v-tyurme-23-02-2022.htm/',\n",
       "  'Время публикации': '17:32'},\n",
       " {'_id': ObjectId('62164cc72101f022935385f1'),\n",
       "  'Источник': 'lenta.ru',\n",
       "  'Новость': 'В Финляндии приготовились к возможному прекращению поставок газа из России',\n",
       "  'Ссылка': '/news/2022/02/23/prekratilipostavki/',\n",
       "  'Время публикации': '17:31'},\n",
       " {'_id': ObjectId('62164cc72101f022935385f2'),\n",
       "  'Источник': 'lenta.ru',\n",
       "  'Новость': 'МИД России пообещал сильный ответ на новые санкции США',\n",
       "  'Ссылка': '/news/2022/02/23/otvettt/',\n",
       "  'Время публикации': '16:04'},\n",
       " {'_id': ObjectId('62164cc72101f022935385f3'),\n",
       "  'Источник': 'lenta.ru',\n",
       "  'Новость': 'Курс рубля снизился',\n",
       "  'Ссылка': '/news/2022/02/23/rublkurs/',\n",
       "  'Время публикации': '15:53'},\n",
       " {'_id': ObjectId('62164cc72101f022935385f4'),\n",
       "  'Источник': 'lenta.ru',\n",
       "  'Новость': 'Спрогнозирован ответ НАТО на ввод войск России в Донбасс',\n",
       "  'Ссылка': '/news/2022/02/23/response/',\n",
       "  'Время публикации': '13:52'}]"
      ]
     },
     "execution_count": 14,
     "metadata": {},
     "output_type": "execute_result"
    }
   ],
   "source": [
    "list(lenta.find({}))"
   ]
  },
  {
   "cell_type": "code",
   "execution_count": null,
   "id": "9d99f78c",
   "metadata": {},
   "outputs": [],
   "source": []
  }
 ],
 "metadata": {
  "kernelspec": {
   "display_name": "Python 3 (ipykernel)",
   "language": "python",
   "name": "python3"
  },
  "language_info": {
   "codemirror_mode": {
    "name": "ipython",
    "version": 3
   },
   "file_extension": ".py",
   "mimetype": "text/x-python",
   "name": "python",
   "nbconvert_exporter": "python",
   "pygments_lexer": "ipython3",
   "version": "3.9.7"
  }
 },
 "nbformat": 4,
 "nbformat_minor": 5
}
